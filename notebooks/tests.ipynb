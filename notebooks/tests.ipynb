{
 "cells": [
  {
   "cell_type": "code",
   "execution_count": 3,
   "metadata": {},
   "outputs": [
    {
     "name": "stdout",
     "output_type": "stream",
     "text": [
      "DATA_DIRECTORY=PosixPath('/home/jasper/Projects/code-weekend-1/data')\n"
     ]
    }
   ],
   "source": [
    "import json\n",
    "import os\n",
    "import pandas as pd\n",
    "import plotly.express as px\n",
    "import plotly.graph_objects as go\n",
    "from dotenv import load_dotenv\n",
    "from IPython.display import display\n",
    "from ipywidgets import widgets\n",
    "from pathlib import Path\n",
    "\n",
    "load_dotenv()\n",
    "\n",
    "DATA_DIRECTORY = Path(os.environ[\"DATA_DIRECTORY\"])\n",
    "print(f\"{DATA_DIRECTORY=}\")"
   ]
  },
  {
   "cell_type": "code",
   "execution_count": 11,
   "metadata": {},
   "outputs": [
    {
     "name": "stdout",
     "output_type": "stream",
     "text": [
      "Test: 45\n",
      "Hero speed: 40 (25)\n",
      "Hero power: 15 (30)\n",
      "Hero range: 30 (25)\n",
      "Map size: 2000 x 500\n",
      "Start: (776, 198)\n",
      "#turns: 2000\n",
      "#monsters: 1027\n"
     ]
    },
    {
     "data": {
      "application/vnd.jupyter.widget-view+json": {
       "model_id": "8d7a533fefb048029485874603ef3f6d",
       "version_major": 2,
       "version_minor": 0
      },
      "text/plain": [
       "VBox(children=(FigureWidget({\n",
       "    'data': [{'hovertemplate': 'x=%{x}<br>y=%{y}<br>gold=%{marker.color}<extra><…"
      ]
     },
     "metadata": {},
     "output_type": "display_data"
    }
   ],
   "source": [
    "def plot_test(test_id: int) -> None:\n",
    "    file = DATA_DIRECTORY / f\"{test_id:03d}.json\"\n",
    "    data = json.loads(file.read_text(encoding=\"utf-8\"))\n",
    "\n",
    "    print(f\"Test: {test_id}\")\n",
    "\n",
    "    for stat in [\"speed\", \"power\", \"range\"]:\n",
    "        print(f\"Hero {stat}: {data[\"hero\"][f\"base_{stat}\"]} ({data[\"hero\"][f\"level_{stat}_coeff\"]})\")\n",
    "\n",
    "    print(f\"Map size: {data[\"width\"]} x {data[\"height\"]}\")\n",
    "    print(f\"Start: ({data[\"start_x\"]}, {data[\"start_y\"]})\")\n",
    "    print(f\"#turns: {data[\"num_turns\"]}\")\n",
    "    print(f\"#monsters: {len(data[\"monsters\"])}\")\n",
    "\n",
    "    df_monsters = pd.DataFrame(data[\"monsters\"])\n",
    "    df_monsters[\"y\"] = data[\"height\"] - df_monsters[\"y\"]\n",
    "    df_monsters[\"gold_per_hp\"] = df_monsters[\"gold\"] / df_monsters[\"hp\"]\n",
    "    df_monsters[\"exp_per_hp\"] = df_monsters[\"exp\"] / df_monsters[\"hp\"]\n",
    "\n",
    "    figs = []\n",
    "    for stat in [\"gold\", \"gold_per_hp\", \"exp\", \"exp_per_hp\", \"hp\", \"attack\", \"range\"]:\n",
    "        if stat not in df_monsters.columns:\n",
    "            continue\n",
    "\n",
    "        fig = px.scatter(df_monsters, x=\"x\", y=\"y\", color=stat, height=600)\n",
    "\n",
    "        fig.update_layout(xaxis_range=[0, data[\"width\"]])\n",
    "        fig.update_layout(yaxis_range=[0, data[\"height\"]])\n",
    "        fig.update_yaxes(scaleanchor=\"x\", scaleratio=1)\n",
    "\n",
    "        fig.update_layout(showlegend=False)\n",
    "        fig.add_shape(type=\"rect\", x0=0, y0=0, x1=data[\"width\"], y1=data[\"height\"])\n",
    "\n",
    "        fig.add_scatter(x=[data[\"start_x\"]], y=[data[\"height\"] - data[\"start_y\"]], marker={\"color\": \"black\"})\n",
    "        fig.add_shape(type=\"circle\",\n",
    "                      xref=\"x\", yref=\"y\",\n",
    "                      x0=data[\"start_x\"] - data[\"hero\"][\"base_speed\"], y0=data[\"height\"] - (data[\"start_y\"] - data[\"hero\"][\"base_speed\"]),\n",
    "                      x1=data[\"start_x\"] + data[\"hero\"][\"base_speed\"], y1=data[\"height\"] - (data[\"start_y\"] + data[\"hero\"][\"base_speed\"]),\n",
    "                      line_color=\"blue\")\n",
    "        fig.add_shape(type=\"circle\",\n",
    "                      xref=\"x\", yref=\"y\",\n",
    "                      x0=data[\"start_x\"] - data[\"hero\"][\"base_range\"], y0=data[\"height\"] - (data[\"start_y\"] - data[\"hero\"][\"base_range\"]),\n",
    "                      x1=data[\"start_x\"] + data[\"hero\"][\"base_range\"], y1=data[\"height\"] - (data[\"start_y\"] + data[\"hero\"][\"base_range\"]),\n",
    "                      line_color=\"red\")\n",
    "\n",
    "        figs.append(go.FigureWidget(fig))\n",
    "\n",
    "    display(widgets.VBox(figs))\n",
    "\n",
    "plot_test(45)"
   ]
  }
 ],
 "metadata": {
  "kernelspec": {
   "display_name": "code-weekend-1",
   "language": "python",
   "name": "python3"
  },
  "language_info": {
   "codemirror_mode": {
    "name": "ipython",
    "version": 3
   },
   "file_extension": ".py",
   "mimetype": "text/x-python",
   "name": "python",
   "nbconvert_exporter": "python",
   "pygments_lexer": "ipython3",
   "version": "3.12.3"
  }
 },
 "nbformat": 4,
 "nbformat_minor": 2
}
